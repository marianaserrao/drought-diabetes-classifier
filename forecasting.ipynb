{
  "cells": [
    {
      "attachments": {},
      "cell_type": "markdown",
      "metadata": {},
      "source": [
        "## Imports"
      ]
    },
    {
      "cell_type": "code",
      "execution_count": null,
      "metadata": {
        "id": "UfID4n3RjkAi"
      },
      "outputs": [],
      "source": [
        "import pandas as pd \n",
        "import numpy as np \n",
        "import matplotlib.pyplot as plt\n",
        "from math import ceil, sqrt\n",
        "from sklearn.metrics import mean_squared_error\n",
        "from statsmodels.tsa.arima.model import ARIMA\n",
        "import pickle\n",
        "import seaborn as sns\n",
        "from scalecast.Forecaster import Forecaster\n",
        "import tensorflow as tf"
      ]
    },
    {
      "attachments": {},
      "cell_type": "markdown",
      "metadata": {
        "id": "QaTyO4uw32nh"
      },
      "source": [
        "## DF Import and Prep"
      ]
    },
    {
      "cell_type": "code",
      "execution_count": null,
      "metadata": {
        "colab": {
          "base_uri": "https://localhost:8080/",
          "height": 455
        },
        "id": "Jg01nQwIolOq",
        "outputId": "4f224fff-3345-4266-d4bc-1ad2988fa7eb"
      },
      "outputs": [],
      "source": [
        "data_file_path = 'data/drought_forecasting_data.csv'\n",
        "target = 'QV2M'\n",
        "date = {\n",
        "  'column' : 'date',\n",
        "  \"format\" : '%Y-%m-%d'\n",
        "}\n",
        "\n",
        "df = pd.read_csv(data_file_path)\n",
        "df.index = pd.to_datetime(df[date['column']],format=date['format'])\n",
        "df"
      ]
    },
    {
      "attachments": {},
      "cell_type": "markdown",
      "metadata": {
        "id": "iRbJxT0338xC"
      },
      "source": [
        "### test/train split"
      ]
    },
    {
      "cell_type": "code",
      "execution_count": null,
      "metadata": {
        "id": "XQvMepUWpjTF"
      },
      "outputs": [],
      "source": [
        "train_size = ceil(0.8*df.shape[0])\n",
        "train = df[:train_size]\n",
        "test = df[train_size:]"
      ]
    },
    {
      "cell_type": "code",
      "execution_count": null,
      "metadata": {
        "colab": {
          "base_uri": "https://localhost:8080/",
          "height": 506
        },
        "id": "oWq4azqkq9aS",
        "outputId": "da269af2-e75c-43e7-dcf3-f9d477128088"
      },
      "outputs": [],
      "source": [
        "train[target].plot(figsize=(15,8),fontsize=14)\n",
        "test[target].plot(figsize=(15,8), fontsize=14)\n",
        "plt.show()"
      ]
    },
    {
      "attachments": {},
      "cell_type": "markdown",
      "metadata": {
        "id": "WZRVDzR94mgX"
      },
      "source": [
        "## Simple Average"
      ]
    },
    {
      "cell_type": "code",
      "execution_count": null,
      "metadata": {
        "colab": {
          "base_uri": "https://localhost:8080/",
          "height": 483
        },
        "id": "qpCumKt1ygv9",
        "outputId": "d9b1b4a0-65f4-4122-f737-de42bd299751"
      },
      "outputs": [],
      "source": [
        "SA_test = test.copy()\n",
        "SA_test['pred']=train[target].mean()\n",
        "pred=train[target].mean()\n",
        "plt.figure(figsize=(12,8))\n",
        "plt.plot(train[target], label='Train')\n",
        "plt.plot(test[target], label='Test')\n",
        "plt.plot(SA_test['pred'], label='Simple Average Forecast')\n",
        "plt.legend(loc='best')\n",
        "plt.show()"
      ]
    },
    {
      "cell_type": "code",
      "execution_count": null,
      "metadata": {
        "colab": {
          "base_uri": "https://localhost:8080/"
        },
        "id": "zTFVnItFzQlF",
        "outputId": "411d67b2-0698-4371-817e-826ab4466c3c"
      },
      "outputs": [],
      "source": [
        "rmse=sqrt(mean_squared_error(test[target], SA_test.pred))\n",
        "print(rmse)\n"
      ]
    },
    {
      "attachments": {},
      "cell_type": "markdown",
      "metadata": {
        "id": "BmX6Lx7R4rp5"
      },
      "source": [
        "## Persistence Model"
      ]
    },
    {
      "cell_type": "code",
      "execution_count": null,
      "metadata": {
        "colab": {
          "base_uri": "https://localhost:8080/",
          "height": 587
        },
        "id": "Bq6LvlnT5E6D",
        "outputId": "92e4da12-411b-4992-c9ec-d02f1b7d49d7"
      },
      "outputs": [],
      "source": [
        "PM_test = test.copy()\n",
        "PM_test['pred'] = PM_test[target].shift(1)\n",
        "PM_test['pred'][0] = train[target][-1]\n",
        "plt.figure(figsize=(12,8))\n",
        "plt.plot(train[target], label='Train')\n",
        "plt.plot(test[target], label='Test')\n",
        "plt.plot(PM_test['pred'], label='Persistence Model Forecast')\n",
        "plt.legend(loc='best')\n",
        "plt.show()"
      ]
    },
    {
      "cell_type": "code",
      "execution_count": null,
      "metadata": {
        "colab": {
          "base_uri": "https://localhost:8080/"
        },
        "id": "f1Wew6Vf8LH3",
        "outputId": "95b6aab2-3abd-4dd6-80e1-ac4cab1f4b10"
      },
      "outputs": [],
      "source": [
        "rmse=sqrt(mean_squared_error(test[target], PM_test.pred))\n",
        "print(rmse)"
      ]
    },
    {
      "attachments": {},
      "cell_type": "markdown",
      "metadata": {
        "id": "vbqHqQ3MBUqp"
      },
      "source": [
        "## Rolling Mean"
      ]
    },
    {
      "cell_type": "code",
      "execution_count": null,
      "metadata": {
        "colab": {
          "base_uri": "https://localhost:8080/",
          "height": 483
        },
        "id": "O8AJmRBUBXJC",
        "outputId": "dfa43b22-2761-4815-b4e1-d7ae82cc3363"
      },
      "outputs": [],
      "source": [
        "p = 2\n",
        "RM_test = test.copy()\n",
        "test_size = RM_test.shape[0]\n",
        "\n",
        "RM_pred = list()\n",
        "for i in range(test_size):\n",
        "  pred = df[-test_size-p+i:-test_size+i][target].mean()\n",
        "  RM_pred.append(pred)\n",
        "RM_test['pred']=RM_pred\n",
        "\n",
        "plt.figure(figsize=(12,8))\n",
        "plt.plot(train[target], label='Train')\n",
        "plt.plot(test[target], label='Test')\n",
        "plt.plot(RM_test[\"pred\"], label='Rolling Mean Forecast')\n",
        "plt.legend(loc='best')\n",
        "plt.show()"
      ]
    },
    {
      "cell_type": "code",
      "execution_count": null,
      "metadata": {
        "colab": {
          "base_uri": "https://localhost:8080/"
        },
        "id": "9avRHT3uB0bL",
        "outputId": "15447410-8181-4aa1-c763-55db5ddbfa8f"
      },
      "outputs": [],
      "source": [
        "rmse=sqrt(mean_squared_error(test[target], RM_test.pred))\n",
        "print(rmse)"
      ]
    },
    {
      "attachments": {},
      "cell_type": "markdown",
      "metadata": {
        "id": "o48SUfQ5L2_9"
      },
      "source": [
        "## ARIMA"
      ]
    },
    {
      "cell_type": "code",
      "execution_count": null,
      "metadata": {
        "id": "1NKdysuR1Fd3"
      },
      "outputs": [],
      "source": [
        "def arima(order):\n",
        "  pred = ARIMA(train[target], order=order)\n",
        "  model = pred.fit(method_kwargs={'warn_convergence': False})\n",
        "  ARIMA_pred = model.forecast(steps=len(test), signal_only=False)\n",
        "  return ARIMA_pred"
      ]
    },
    {
      "cell_type": "code",
      "execution_count": null,
      "metadata": {
        "colab": {
          "base_uri": "https://localhost:8080/"
        },
        "id": "GtJjvpz27JlA",
        "outputId": "7db5c72b-aca3-4020-c0b8-ed3e9f647595"
      },
      "outputs": [],
      "source": [
        "from tqdm import tqdm\n",
        "\n",
        "rmse_values = list()\n",
        "d_opts = (0,1,2)\n",
        "pq_opts = (1,2,3,4,5)\n",
        "for d in d_opts:\n",
        "  for p in pq_opts:\n",
        "    for q in tqdm(pq_opts):\n",
        "      order = (p, d, q)\n",
        "      ARIMA_pred = arima(order)\n",
        "      rmse=sqrt(mean_squared_error(test[target], ARIMA_pred))\n",
        "      rmse_values.append([rmse, order])"
      ]
    },
    {
      "cell_type": "code",
      "execution_count": null,
      "metadata": {
        "colab": {
          "base_uri": "https://localhost:8080/",
          "height": 661
        },
        "id": "-2J_HNhHBb-W",
        "outputId": "99be507e-e931-4e6e-f601-913cbc8b388f"
      },
      "outputs": [],
      "source": [
        "rmse_values.sort()\n",
        "ARIMA_pred = arima(rmse_values[0][1])\n",
        "plt.figure(figsize=(16,8))\n",
        "plt.plot( train[target], label='Train')\n",
        "plt.plot(test[target], label='Test')\n",
        "ARIMA_pred.index = test.index\n",
        "plt.plot(ARIMA_pred, label='ARIMA')\n",
        "plt.legend(loc='best')\n",
        "plt.show()"
      ]
    },
    {
      "cell_type": "code",
      "execution_count": null,
      "metadata": {
        "colab": {
          "base_uri": "https://localhost:8080/"
        },
        "id": "dAQXyCAFHIWk",
        "outputId": "b16d1e61-c415-4124-8063-f40a31bf0101"
      },
      "outputs": [],
      "source": [
        "rmse_opts"
      ]
    },
    {
      "cell_type": "code",
      "execution_count": null,
      "metadata": {
        "colab": {
          "base_uri": "https://localhost:8080/"
        },
        "id": "OZKA7Rgz5n2l",
        "outputId": "d3c9747c-d45a-4442-b1c1-34c46234c853"
      },
      "outputs": [],
      "source": [
        "rmse=sqrt(mean_squared_error(test[target], ARIMA_pred))\n",
        "print(rmse)"
      ]
    },
    {
      "attachments": {},
      "cell_type": "markdown",
      "metadata": {
        "id": "uPFxRL8xFHhd"
      },
      "source": [
        "## LSTM"
      ]
    },
    {
      "cell_type": "code",
      "execution_count": null,
      "metadata": {
        "id": "jd5q16XrAtml"
      },
      "outputs": [],
      "source": [
        "sns.set(rc={'figure.figsize':(16,8)})\n",
        "test_size = test.shape[0]"
      ]
    },
    {
      "cell_type": "code",
      "execution_count": null,
      "metadata": {
        "id": "AhS1WIW8GU2I"
      },
      "outputs": [],
      "source": [
        "f = Forecaster(y=df[target],\n",
        "                   current_dates=df[date[\"column\"]])\n",
        "f.set_test_length(test_size)\n",
        "f.generate_future_dates(test_size) \n",
        "f.set_estimator('lstm')            "
      ]
    },
    {
      "cell_type": "code",
      "execution_count": null,
      "metadata": {
        "id": "EgTEOwBjOvnt"
      },
      "outputs": [],
      "source": [
        "def lstm(lr, hs):\n",
        "  f.manual_forecast(call_me=f'lstm-lr={str(lr)}-hidden_size={str(hs)}',\n",
        "                    epochs=25,\n",
        "                    callbacks=tf.keras.callbacks.EarlyStopping(\n",
        "                        monitor='mse',\n",
        "                        patience=5,\n",
        "                    ),\n",
        "                    lstm_layer_sizes=(hs,hs,hs),\n",
        "                    dropout=(0,0,0),\n",
        "                    learning_rate=lr\n",
        "  )"
      ]
    },
    {
      "cell_type": "code",
      "execution_count": null,
      "metadata": {
        "colab": {
          "base_uri": "https://localhost:8080/"
        },
        "id": "yv9aoCu_WgaG",
        "outputId": "42f47cca-e14e-4905-af28-8823d358b074"
      },
      "outputs": [],
      "source": [
        "lr_opts = (0.001, 0.05, 0.01)\n",
        "hs_opts = (8, 16, 32)\n",
        "rmse_values = list()\n",
        "\n",
        "for lr in lr_opts:\n",
        "  for hs in hs_opts:\n",
        "    lstm(lr,hs)\n",
        "    LSTM_pred = f.export()[\"test_set_predictions\"]\n",
        "    rmse=sqrt(mean_squared_error(test[target], LSTM_pred[f\"lstm-lr={str(lr)}-hidden_size={str(hs)}\"]))\n",
        "    rmse_values.append([rmse, (lr, hs)])"
      ]
    },
    {
      "cell_type": "code",
      "execution_count": null,
      "metadata": {
        "colab": {
          "base_uri": "https://localhost:8080/"
        },
        "id": "BTOUkNuvcgtU",
        "outputId": "68f50bec-1eb4-438e-a65d-76ff21c36e62"
      },
      "outputs": [],
      "source": [
        "rmse_values"
      ]
    },
    {
      "cell_type": "code",
      "execution_count": null,
      "metadata": {
        "colab": {
          "base_uri": "https://localhost:8080/",
          "height": 411
        },
        "id": "D6dof_sDPCNa",
        "outputId": "c596d64c-7f60-4375-839e-be6a3cdff034"
      },
      "outputs": [],
      "source": [
        "f.plot_test_set((\n",
        "    \"lstm-lr=0.01-hidden_size=32\"\n",
        "))"
      ]
    }
  ],
  "metadata": {
    "colab": {
      "provenance": []
    },
    "kernelspec": {
      "display_name": "Python 3",
      "language": "python",
      "name": "python3"
    },
    "language_info": {
      "codemirror_mode": {
        "name": "ipython",
        "version": 3
      },
      "file_extension": ".py",
      "mimetype": "text/x-python",
      "name": "python",
      "nbconvert_exporter": "python",
      "pygments_lexer": "ipython3",
      "version": "3.10.7 (main, Sep  5 2022, 13:12:31) [GCC 11.2.0]"
    },
    "vscode": {
      "interpreter": {
        "hash": "7d6993cb2f9ce9a59d5d7380609d9cb5192a9dedd2735a011418ad9e827eb538"
      }
    }
  },
  "nbformat": 4,
  "nbformat_minor": 0
}
