{
 "cells": [
  {
   "cell_type": "markdown",
   "metadata": {},
   "source": [
    "## Libraries"
   ]
  },
  {
   "cell_type": "code",
   "execution_count": 5,
   "metadata": {},
   "outputs": [],
   "source": [
    "from itertools import count\n",
    "import pandas as pd\n",
    "import matplotlib.pyplot as plt\n",
    "import seaborn           as sns\n",
    "import numpy             as np\n",
    "from sklearn.metrics.pairwise import euclidean_distances\n",
    "from sklearn.neighbors        import KNeighborsClassifier\n",
    "from sklearn.metrics          import accuracy_score, confusion_matrix\n",
    "from sklearn.naive_bayes      import GaussianNB\n",
    "from sklearn.preprocessing    import StandardScaler, Normalizer\n",
    "from sklearn.feature_selection import SequentialFeatureSelector"
   ]
  },
  {
   "cell_type": "markdown",
   "metadata": {},
   "source": [
    "#### Understanding the data"
   ]
  },
  {
   "cell_type": "markdown",
   "metadata": {},
   "source": [
    "##### Read the data"
   ]
  },
  {
   "cell_type": "code",
   "execution_count": 131,
   "metadata": {},
   "outputs": [
    {
     "data": {
      "text/html": [
       "<div>\n",
       "<style scoped>\n",
       "    .dataframe tbody tr th:only-of-type {\n",
       "        vertical-align: middle;\n",
       "    }\n",
       "\n",
       "    .dataframe tbody tr th {\n",
       "        vertical-align: top;\n",
       "    }\n",
       "\n",
       "    .dataframe thead th {\n",
       "        text-align: right;\n",
       "    }\n",
       "</style>\n",
       "<table border=\"1\" class=\"dataframe\">\n",
       "  <thead>\n",
       "    <tr style=\"text-align: right;\">\n",
       "      <th></th>\n",
       "      <th>PRECTOT</th>\n",
       "      <th>PS</th>\n",
       "      <th>T2M</th>\n",
       "      <th>T2MDEW</th>\n",
       "      <th>T2MWET</th>\n",
       "      <th>TS</th>\n",
       "      <th>QV2M</th>\n",
       "    </tr>\n",
       "    <tr>\n",
       "      <th>date</th>\n",
       "      <th></th>\n",
       "      <th></th>\n",
       "      <th></th>\n",
       "      <th></th>\n",
       "      <th></th>\n",
       "      <th></th>\n",
       "      <th></th>\n",
       "    </tr>\n",
       "  </thead>\n",
       "  <tbody>\n",
       "    <tr>\n",
       "      <th>2000-01-01</th>\n",
       "      <td>0.22</td>\n",
       "      <td>100.51</td>\n",
       "      <td>14.74</td>\n",
       "      <td>13.51</td>\n",
       "      <td>13.51</td>\n",
       "      <td>14.65</td>\n",
       "      <td>9.65</td>\n",
       "    </tr>\n",
       "    <tr>\n",
       "      <th>2000-01-02</th>\n",
       "      <td>0.20</td>\n",
       "      <td>100.55</td>\n",
       "      <td>16.69</td>\n",
       "      <td>14.71</td>\n",
       "      <td>14.71</td>\n",
       "      <td>16.60</td>\n",
       "      <td>10.42</td>\n",
       "    </tr>\n",
       "    <tr>\n",
       "      <th>2000-01-03</th>\n",
       "      <td>3.65</td>\n",
       "      <td>100.15</td>\n",
       "      <td>18.49</td>\n",
       "      <td>16.52</td>\n",
       "      <td>16.52</td>\n",
       "      <td>18.41</td>\n",
       "      <td>11.76</td>\n",
       "    </tr>\n",
       "    <tr>\n",
       "      <th>2000-01-04</th>\n",
       "      <td>15.95</td>\n",
       "      <td>100.29</td>\n",
       "      <td>11.40</td>\n",
       "      <td>6.09</td>\n",
       "      <td>6.10</td>\n",
       "      <td>11.31</td>\n",
       "      <td>6.42</td>\n",
       "    </tr>\n",
       "    <tr>\n",
       "      <th>2000-01-05</th>\n",
       "      <td>0.00</td>\n",
       "      <td>101.15</td>\n",
       "      <td>3.86</td>\n",
       "      <td>-3.29</td>\n",
       "      <td>-3.20</td>\n",
       "      <td>2.65</td>\n",
       "      <td>2.95</td>\n",
       "    </tr>\n",
       "    <tr>\n",
       "      <th>...</th>\n",
       "      <td>...</td>\n",
       "      <td>...</td>\n",
       "      <td>...</td>\n",
       "      <td>...</td>\n",
       "      <td>...</td>\n",
       "      <td>...</td>\n",
       "      <td>...</td>\n",
       "    </tr>\n",
       "    <tr>\n",
       "      <th>2020-12-27</th>\n",
       "      <td>0.00</td>\n",
       "      <td>100.73</td>\n",
       "      <td>3.50</td>\n",
       "      <td>0.87</td>\n",
       "      <td>2.18</td>\n",
       "      <td>3.32</td>\n",
       "      <td>4.03</td>\n",
       "    </tr>\n",
       "    <tr>\n",
       "      <th>2020-12-28</th>\n",
       "      <td>0.05</td>\n",
       "      <td>101.07</td>\n",
       "      <td>7.20</td>\n",
       "      <td>6.39</td>\n",
       "      <td>6.80</td>\n",
       "      <td>6.95</td>\n",
       "      <td>5.95</td>\n",
       "    </tr>\n",
       "    <tr>\n",
       "      <th>2020-12-29</th>\n",
       "      <td>0.11</td>\n",
       "      <td>101.10</td>\n",
       "      <td>10.01</td>\n",
       "      <td>8.78</td>\n",
       "      <td>9.39</td>\n",
       "      <td>9.96</td>\n",
       "      <td>7.01</td>\n",
       "    </tr>\n",
       "    <tr>\n",
       "      <th>2020-12-30</th>\n",
       "      <td>0.06</td>\n",
       "      <td>100.62</td>\n",
       "      <td>12.22</td>\n",
       "      <td>10.54</td>\n",
       "      <td>11.38</td>\n",
       "      <td>12.14</td>\n",
       "      <td>7.93</td>\n",
       "    </tr>\n",
       "    <tr>\n",
       "      <th>2020-12-31</th>\n",
       "      <td>4.49</td>\n",
       "      <td>100.14</td>\n",
       "      <td>14.91</td>\n",
       "      <td>14.37</td>\n",
       "      <td>14.64</td>\n",
       "      <td>14.86</td>\n",
       "      <td>10.25</td>\n",
       "    </tr>\n",
       "  </tbody>\n",
       "</table>\n",
       "<p>7671 rows × 7 columns</p>\n",
       "</div>"
      ],
      "text/plain": [
       "            PRECTOT      PS    T2M  T2MDEW  T2MWET     TS   QV2M\n",
       "date                                                            \n",
       "2000-01-01     0.22  100.51  14.74   13.51   13.51  14.65   9.65\n",
       "2000-01-02     0.20  100.55  16.69   14.71   14.71  16.60  10.42\n",
       "2000-01-03     3.65  100.15  18.49   16.52   16.52  18.41  11.76\n",
       "2000-01-04    15.95  100.29  11.40    6.09    6.10  11.31   6.42\n",
       "2000-01-05     0.00  101.15   3.86   -3.29   -3.20   2.65   2.95\n",
       "...             ...     ...    ...     ...     ...    ...    ...\n",
       "2020-12-27     0.00  100.73   3.50    0.87    2.18   3.32   4.03\n",
       "2020-12-28     0.05  101.07   7.20    6.39    6.80   6.95   5.95\n",
       "2020-12-29     0.11  101.10  10.01    8.78    9.39   9.96   7.01\n",
       "2020-12-30     0.06  100.62  12.22   10.54   11.38  12.14   7.93\n",
       "2020-12-31     4.49  100.14  14.91   14.37   14.64  14.86  10.25\n",
       "\n",
       "[7671 rows x 7 columns]"
      ]
     },
     "execution_count": 131,
     "metadata": {},
     "output_type": "execute_result"
    }
   ],
   "source": [
    "data = pd.read_csv('data/drought_forecasting.csv', dayfirst=True, parse_dates =[\"date\"], index_col =\"date\")\n",
    "data"
   ]
  },
  {
   "cell_type": "markdown",
   "metadata": {},
   "source": [
    "##### Missing values"
   ]
  },
  {
   "cell_type": "code",
   "execution_count": 132,
   "metadata": {},
   "outputs": [
    {
     "data": {
      "text/plain": [
       "PRECTOT    0\n",
       "PS         0\n",
       "T2M        0\n",
       "T2MDEW     0\n",
       "T2MWET     0\n",
       "TS         0\n",
       "QV2M       0\n",
       "dtype: int64"
      ]
     },
     "execution_count": 132,
     "metadata": {},
     "output_type": "execute_result"
    }
   ],
   "source": [
    "nullValues = data.isnull().sum()\n",
    "nullValues"
   ]
  },
  {
   "cell_type": "markdown",
   "metadata": {},
   "source": [
    "##### Data types and data summary"
   ]
  },
  {
   "cell_type": "code",
   "execution_count": 133,
   "metadata": {},
   "outputs": [
    {
     "data": {
      "text/html": [
       "<div>\n",
       "<style scoped>\n",
       "    .dataframe tbody tr th:only-of-type {\n",
       "        vertical-align: middle;\n",
       "    }\n",
       "\n",
       "    .dataframe tbody tr th {\n",
       "        vertical-align: top;\n",
       "    }\n",
       "\n",
       "    .dataframe thead th {\n",
       "        text-align: right;\n",
       "    }\n",
       "</style>\n",
       "<table border=\"1\" class=\"dataframe\">\n",
       "  <thead>\n",
       "    <tr style=\"text-align: right;\">\n",
       "      <th></th>\n",
       "      <th>PRECTOT</th>\n",
       "      <th>PS</th>\n",
       "      <th>T2M</th>\n",
       "      <th>T2MDEW</th>\n",
       "      <th>T2MWET</th>\n",
       "      <th>TS</th>\n",
       "      <th>QV2M</th>\n",
       "    </tr>\n",
       "    <tr>\n",
       "      <th>date</th>\n",
       "      <th></th>\n",
       "      <th></th>\n",
       "      <th></th>\n",
       "      <th></th>\n",
       "      <th></th>\n",
       "      <th></th>\n",
       "      <th></th>\n",
       "    </tr>\n",
       "  </thead>\n",
       "  <tbody>\n",
       "    <tr>\n",
       "      <th>2000-01-01</th>\n",
       "      <td>0.22</td>\n",
       "      <td>100.51</td>\n",
       "      <td>14.74</td>\n",
       "      <td>13.51</td>\n",
       "      <td>13.51</td>\n",
       "      <td>14.65</td>\n",
       "      <td>9.65</td>\n",
       "    </tr>\n",
       "    <tr>\n",
       "      <th>2000-01-02</th>\n",
       "      <td>0.20</td>\n",
       "      <td>100.55</td>\n",
       "      <td>16.69</td>\n",
       "      <td>14.71</td>\n",
       "      <td>14.71</td>\n",
       "      <td>16.60</td>\n",
       "      <td>10.42</td>\n",
       "    </tr>\n",
       "    <tr>\n",
       "      <th>2000-01-03</th>\n",
       "      <td>3.65</td>\n",
       "      <td>100.15</td>\n",
       "      <td>18.49</td>\n",
       "      <td>16.52</td>\n",
       "      <td>16.52</td>\n",
       "      <td>18.41</td>\n",
       "      <td>11.76</td>\n",
       "    </tr>\n",
       "    <tr>\n",
       "      <th>2000-01-04</th>\n",
       "      <td>15.95</td>\n",
       "      <td>100.29</td>\n",
       "      <td>11.40</td>\n",
       "      <td>6.09</td>\n",
       "      <td>6.10</td>\n",
       "      <td>11.31</td>\n",
       "      <td>6.42</td>\n",
       "    </tr>\n",
       "    <tr>\n",
       "      <th>2000-01-05</th>\n",
       "      <td>0.00</td>\n",
       "      <td>101.15</td>\n",
       "      <td>3.86</td>\n",
       "      <td>-3.29</td>\n",
       "      <td>-3.20</td>\n",
       "      <td>2.65</td>\n",
       "      <td>2.95</td>\n",
       "    </tr>\n",
       "  </tbody>\n",
       "</table>\n",
       "</div>"
      ],
      "text/plain": [
       "            PRECTOT      PS    T2M  T2MDEW  T2MWET     TS   QV2M\n",
       "date                                                            \n",
       "2000-01-01     0.22  100.51  14.74   13.51   13.51  14.65   9.65\n",
       "2000-01-02     0.20  100.55  16.69   14.71   14.71  16.60  10.42\n",
       "2000-01-03     3.65  100.15  18.49   16.52   16.52  18.41  11.76\n",
       "2000-01-04    15.95  100.29  11.40    6.09    6.10  11.31   6.42\n",
       "2000-01-05     0.00  101.15   3.86   -3.29   -3.20   2.65   2.95"
      ]
     },
     "execution_count": 133,
     "metadata": {},
     "output_type": "execute_result"
    }
   ],
   "source": [
    "data.head()"
   ]
  },
  {
   "cell_type": "code",
   "execution_count": 134,
   "metadata": {},
   "outputs": [
    {
     "data": {
      "text/html": [
       "<div>\n",
       "<style scoped>\n",
       "    .dataframe tbody tr th:only-of-type {\n",
       "        vertical-align: middle;\n",
       "    }\n",
       "\n",
       "    .dataframe tbody tr th {\n",
       "        vertical-align: top;\n",
       "    }\n",
       "\n",
       "    .dataframe thead th {\n",
       "        text-align: right;\n",
       "    }\n",
       "</style>\n",
       "<table border=\"1\" class=\"dataframe\">\n",
       "  <thead>\n",
       "    <tr style=\"text-align: right;\">\n",
       "      <th></th>\n",
       "      <th>PRECTOT</th>\n",
       "      <th>PS</th>\n",
       "      <th>T2M</th>\n",
       "      <th>T2MDEW</th>\n",
       "      <th>T2MWET</th>\n",
       "      <th>TS</th>\n",
       "      <th>QV2M</th>\n",
       "    </tr>\n",
       "  </thead>\n",
       "  <tbody>\n",
       "    <tr>\n",
       "      <th>count</th>\n",
       "      <td>7671.000000</td>\n",
       "      <td>7671.000000</td>\n",
       "      <td>7671.000000</td>\n",
       "      <td>7671.000000</td>\n",
       "      <td>7671.000000</td>\n",
       "      <td>7671.000000</td>\n",
       "      <td>7671.000000</td>\n",
       "    </tr>\n",
       "    <tr>\n",
       "      <th>mean</th>\n",
       "      <td>3.718138</td>\n",
       "      <td>100.283734</td>\n",
       "      <td>17.687126</td>\n",
       "      <td>12.902799</td>\n",
       "      <td>12.895320</td>\n",
       "      <td>17.585104</td>\n",
       "      <td>10.447320</td>\n",
       "    </tr>\n",
       "    <tr>\n",
       "      <th>std</th>\n",
       "      <td>8.118149</td>\n",
       "      <td>0.497352</td>\n",
       "      <td>8.444942</td>\n",
       "      <td>8.096155</td>\n",
       "      <td>8.066492</td>\n",
       "      <td>8.532297</td>\n",
       "      <td>4.686545</td>\n",
       "    </tr>\n",
       "    <tr>\n",
       "      <th>min</th>\n",
       "      <td>0.000000</td>\n",
       "      <td>97.970000</td>\n",
       "      <td>-6.490000</td>\n",
       "      <td>-15.450000</td>\n",
       "      <td>-14.520000</td>\n",
       "      <td>-8.360000</td>\n",
       "      <td>1.040000</td>\n",
       "    </tr>\n",
       "    <tr>\n",
       "      <th>25%</th>\n",
       "      <td>0.000000</td>\n",
       "      <td>99.960000</td>\n",
       "      <td>11.240000</td>\n",
       "      <td>6.980000</td>\n",
       "      <td>6.970000</td>\n",
       "      <td>11.030000</td>\n",
       "      <td>6.320000</td>\n",
       "    </tr>\n",
       "    <tr>\n",
       "      <th>50%</th>\n",
       "      <td>0.220000</td>\n",
       "      <td>100.240000</td>\n",
       "      <td>18.830000</td>\n",
       "      <td>14.690000</td>\n",
       "      <td>14.650000</td>\n",
       "      <td>18.700000</td>\n",
       "      <td>10.510000</td>\n",
       "    </tr>\n",
       "    <tr>\n",
       "      <th>75%</th>\n",
       "      <td>3.545000</td>\n",
       "      <td>100.580000</td>\n",
       "      <td>25.160000</td>\n",
       "      <td>19.840000</td>\n",
       "      <td>19.820000</td>\n",
       "      <td>25.140000</td>\n",
       "      <td>14.540000</td>\n",
       "    </tr>\n",
       "    <tr>\n",
       "      <th>max</th>\n",
       "      <td>137.590000</td>\n",
       "      <td>102.470000</td>\n",
       "      <td>32.970000</td>\n",
       "      <td>24.810000</td>\n",
       "      <td>24.810000</td>\n",
       "      <td>33.450000</td>\n",
       "      <td>19.790000</td>\n",
       "    </tr>\n",
       "  </tbody>\n",
       "</table>\n",
       "</div>"
      ],
      "text/plain": [
       "           PRECTOT           PS          T2M       T2MDEW       T2MWET  \\\n",
       "count  7671.000000  7671.000000  7671.000000  7671.000000  7671.000000   \n",
       "mean      3.718138   100.283734    17.687126    12.902799    12.895320   \n",
       "std       8.118149     0.497352     8.444942     8.096155     8.066492   \n",
       "min       0.000000    97.970000    -6.490000   -15.450000   -14.520000   \n",
       "25%       0.000000    99.960000    11.240000     6.980000     6.970000   \n",
       "50%       0.220000   100.240000    18.830000    14.690000    14.650000   \n",
       "75%       3.545000   100.580000    25.160000    19.840000    19.820000   \n",
       "max     137.590000   102.470000    32.970000    24.810000    24.810000   \n",
       "\n",
       "                TS         QV2M  \n",
       "count  7671.000000  7671.000000  \n",
       "mean     17.585104    10.447320  \n",
       "std       8.532297     4.686545  \n",
       "min      -8.360000     1.040000  \n",
       "25%      11.030000     6.320000  \n",
       "50%      18.700000    10.510000  \n",
       "75%      25.140000    14.540000  \n",
       "max      33.450000    19.790000  "
      ]
     },
     "execution_count": 134,
     "metadata": {},
     "output_type": "execute_result"
    }
   ],
   "source": [
    "data.describe()\n",
    "# looking the data description is already possible to see that aggregate the data could be not so good, \n",
    "# because there is a high value in PRECTOT that can be an outliers and will 'desapear' in the aggregation process.\n",
    "# So use the atomic granularity possibly is the best option"
   ]
  },
  {
   "cell_type": "code",
   "execution_count": 135,
   "metadata": {},
   "outputs": [
    {
     "data": {
      "text/plain": [
       "PRECTOT    float64\n",
       "PS         float64\n",
       "T2M        float64\n",
       "T2MDEW     float64\n",
       "T2MWET     float64\n",
       "TS         float64\n",
       "QV2M       float64\n",
       "dtype: object"
      ]
     },
     "execution_count": 135,
     "metadata": {},
     "output_type": "execute_result"
    }
   ],
   "source": [
    "data.dtypes"
   ]
  },
  {
   "cell_type": "code",
   "execution_count": 13,
   "metadata": {},
   "outputs": [
    {
     "data": {
      "text/plain": [
       "0       01/01/2000\n",
       "1       02/01/2000\n",
       "2       03/01/2000\n",
       "3       04/01/2000\n",
       "4       05/01/2000\n",
       "           ...    \n",
       "7666    27/12/2020\n",
       "7667    28/12/2020\n",
       "7668    29/12/2020\n",
       "7669    30/12/2020\n",
       "7670    31/12/2020\n",
       "Name: date, Length: 7671, dtype: object"
      ]
     },
     "execution_count": 13,
     "metadata": {},
     "output_type": "execute_result"
    }
   ],
   "source": [
    "\"\"\"data['day'] = pd.DatetimeIndex(data['date'], dayfirst=True).day\n",
    "data['month'] = pd.DatetimeIndex(data['date'], dayfirst=True).month\n",
    "data['year'] = pd.DatetimeIndex(data['date'], dayfirst=True).year\n",
    "data = data[[col for col in data if col not in ['QV2M']] + ['QV2M']]\n",
    "data.pop('date')\"\"\""
   ]
  },
  {
   "cell_type": "markdown",
   "metadata": {},
   "source": [
    "#### 1. Data Profiling"
   ]
  },
  {
   "cell_type": "markdown",
   "metadata": {},
   "source": [
    "##### 1.1. Data Granularity "
   ]
  },
  {
   "cell_type": "markdown",
   "metadata": {},
   "source": [
    "###### 1.1.1. Resample"
   ]
  },
  {
   "cell_type": "code",
   "execution_count": 136,
   "metadata": {},
   "outputs": [],
   "source": [
    "# Granularity: atomic (daily)\n",
    "daily_data = data\n",
    "# Granularity: weekly\n",
    "weekly_data = data.resample('W').mean()\n",
    "# Granularity: monthly\n",
    "monthly_data = data.resample('M').mean()"
   ]
  },
  {
   "cell_type": "markdown",
   "metadata": {},
   "source": [
    "##### 1.2. Data Distribution and Stationarity  "
   ]
  },
  {
   "cell_type": "markdown",
   "metadata": {},
   "source": [
    "###### 1.2.1. Boxplots"
   ]
  },
  {
   "cell_type": "code",
   "execution_count": 137,
   "metadata": {},
   "outputs": [],
   "source": [
    "def boxplot(data, filename):\n",
    "    \"\"\"\"\"\"\n",
    "\n",
    "    #fig, ax = plt.subplots()\n",
    "    sns.boxplot(data=data)\n",
    "    plt.savefig('plots/'+filename + \".png\")\n",
    "    plt.close()"
   ]
  },
  {
   "cell_type": "code",
   "execution_count": 138,
   "metadata": {},
   "outputs": [],
   "source": [
    "boxplot(daily_data, 'boxplot_drought_forecasting_dailySeparated')\n",
    "boxplot(weekly_data, 'boxplot_drought_forecasting_weeklySeparated')\n",
    "boxplot(monthly_data, 'boxplot_drought_forecasting_monthlySeparated')"
   ]
  },
  {
   "cell_type": "markdown",
   "metadata": {},
   "source": [
    "###### 1.2.2. Histograms "
   ]
  },
  {
   "cell_type": "code",
   "execution_count": 139,
   "metadata": {},
   "outputs": [],
   "source": [
    "def histograms(data, filename, dimension):\n",
    "    i, j = dimension\n",
    "    fig, ax = plt.subplots(i, j, figsize=(24, 14))\n",
    "    \n",
    "    for position in range(len(data.columns)):\n",
    "        col = data.columns[position]\n",
    "\n",
    "        pos_i = position//j\n",
    "        pos_j = position%j\n",
    "\n",
    "        ax[pos_i][pos_j].hist(data[col])\n",
    "        ax[pos_i][pos_j].set_title(col)\n",
    "        ax[pos_i][pos_j].legend()\n",
    "        \n",
    "    plt.savefig('plots/' + filename + '.png')\n",
    "    plt.close()"
   ]
  },
  {
   "cell_type": "code",
   "execution_count": 140,
   "metadata": {},
   "outputs": [
    {
     "name": "stderr",
     "output_type": "stream",
     "text": [
      "No artists with labels found to put in legend.  Note that artists whose label start with an underscore are ignored when legend() is called with no argument.\n",
      "No artists with labels found to put in legend.  Note that artists whose label start with an underscore are ignored when legend() is called with no argument.\n",
      "No artists with labels found to put in legend.  Note that artists whose label start with an underscore are ignored when legend() is called with no argument.\n",
      "No artists with labels found to put in legend.  Note that artists whose label start with an underscore are ignored when legend() is called with no argument.\n",
      "No artists with labels found to put in legend.  Note that artists whose label start with an underscore are ignored when legend() is called with no argument.\n",
      "No artists with labels found to put in legend.  Note that artists whose label start with an underscore are ignored when legend() is called with no argument.\n",
      "No artists with labels found to put in legend.  Note that artists whose label start with an underscore are ignored when legend() is called with no argument.\n",
      "No artists with labels found to put in legend.  Note that artists whose label start with an underscore are ignored when legend() is called with no argument.\n",
      "No artists with labels found to put in legend.  Note that artists whose label start with an underscore are ignored when legend() is called with no argument.\n",
      "No artists with labels found to put in legend.  Note that artists whose label start with an underscore are ignored when legend() is called with no argument.\n",
      "No artists with labels found to put in legend.  Note that artists whose label start with an underscore are ignored when legend() is called with no argument.\n",
      "No artists with labels found to put in legend.  Note that artists whose label start with an underscore are ignored when legend() is called with no argument.\n",
      "No artists with labels found to put in legend.  Note that artists whose label start with an underscore are ignored when legend() is called with no argument.\n",
      "No artists with labels found to put in legend.  Note that artists whose label start with an underscore are ignored when legend() is called with no argument.\n",
      "No artists with labels found to put in legend.  Note that artists whose label start with an underscore are ignored when legend() is called with no argument.\n",
      "No artists with labels found to put in legend.  Note that artists whose label start with an underscore are ignored when legend() is called with no argument.\n",
      "No artists with labels found to put in legend.  Note that artists whose label start with an underscore are ignored when legend() is called with no argument.\n",
      "No artists with labels found to put in legend.  Note that artists whose label start with an underscore are ignored when legend() is called with no argument.\n",
      "No artists with labels found to put in legend.  Note that artists whose label start with an underscore are ignored when legend() is called with no argument.\n",
      "No artists with labels found to put in legend.  Note that artists whose label start with an underscore are ignored when legend() is called with no argument.\n",
      "No artists with labels found to put in legend.  Note that artists whose label start with an underscore are ignored when legend() is called with no argument.\n"
     ]
    }
   ],
   "source": [
    "histograms(daily_data, 'hist_drought_forecasting_dailySeparated', (2, 4))\n",
    "histograms(weekly_data, 'hist_drought_forecasting_weeklySeparated', (2, 4))\n",
    "histograms(monthly_data, 'hist_drought_forecasting_monthlySeparated', (2, 4))"
   ]
  },
  {
   "cell_type": "markdown",
   "metadata": {},
   "source": [
    "###### 1.2.3. Stationarity"
   ]
  },
  {
   "cell_type": "code",
   "execution_count": 145,
   "metadata": {},
   "outputs": [],
   "source": [
    "def plot_stationarity(data, filename, dimension):\n",
    "    i, j = dimension\n",
    "    fig, ax = plt.subplots(i, j, figsize=(24, 14))\n",
    "    \n",
    "    for position in range(len(data.columns)):\n",
    "        col = data.columns[position]\n",
    "\n",
    "        pos_i = position//j\n",
    "        pos_j = position%j\n",
    "\n",
    "        ax[pos_i][pos_j].plot(data[col])\n",
    "        ax[pos_i][pos_j].set_title(col)\n",
    "        ax[pos_i][pos_j].legend()\n",
    "        \n",
    "    plt.savefig('plots/' + filename + '.png')\n",
    "    plt.close()\n",
    "    "
   ]
  },
  {
   "cell_type": "code",
   "execution_count": 146,
   "metadata": {},
   "outputs": [
    {
     "name": "stderr",
     "output_type": "stream",
     "text": [
      "No artists with labels found to put in legend.  Note that artists whose label start with an underscore are ignored when legend() is called with no argument.\n",
      "No artists with labels found to put in legend.  Note that artists whose label start with an underscore are ignored when legend() is called with no argument.\n",
      "No artists with labels found to put in legend.  Note that artists whose label start with an underscore are ignored when legend() is called with no argument.\n",
      "No artists with labels found to put in legend.  Note that artists whose label start with an underscore are ignored when legend() is called with no argument.\n",
      "No artists with labels found to put in legend.  Note that artists whose label start with an underscore are ignored when legend() is called with no argument.\n",
      "No artists with labels found to put in legend.  Note that artists whose label start with an underscore are ignored when legend() is called with no argument.\n",
      "No artists with labels found to put in legend.  Note that artists whose label start with an underscore are ignored when legend() is called with no argument.\n",
      "No artists with labels found to put in legend.  Note that artists whose label start with an underscore are ignored when legend() is called with no argument.\n",
      "No artists with labels found to put in legend.  Note that artists whose label start with an underscore are ignored when legend() is called with no argument.\n",
      "No artists with labels found to put in legend.  Note that artists whose label start with an underscore are ignored when legend() is called with no argument.\n",
      "No artists with labels found to put in legend.  Note that artists whose label start with an underscore are ignored when legend() is called with no argument.\n",
      "No artists with labels found to put in legend.  Note that artists whose label start with an underscore are ignored when legend() is called with no argument.\n",
      "No artists with labels found to put in legend.  Note that artists whose label start with an underscore are ignored when legend() is called with no argument.\n",
      "No artists with labels found to put in legend.  Note that artists whose label start with an underscore are ignored when legend() is called with no argument.\n",
      "No artists with labels found to put in legend.  Note that artists whose label start with an underscore are ignored when legend() is called with no argument.\n",
      "No artists with labels found to put in legend.  Note that artists whose label start with an underscore are ignored when legend() is called with no argument.\n",
      "No artists with labels found to put in legend.  Note that artists whose label start with an underscore are ignored when legend() is called with no argument.\n",
      "No artists with labels found to put in legend.  Note that artists whose label start with an underscore are ignored when legend() is called with no argument.\n",
      "No artists with labels found to put in legend.  Note that artists whose label start with an underscore are ignored when legend() is called with no argument.\n",
      "No artists with labels found to put in legend.  Note that artists whose label start with an underscore are ignored when legend() is called with no argument.\n",
      "No artists with labels found to put in legend.  Note that artists whose label start with an underscore are ignored when legend() is called with no argument.\n"
     ]
    }
   ],
   "source": [
    "plot_stationarity(daily_data, 'stationarity_drought_forecantig_dailySeparated', (2, 4))\n",
    "plot_stationarity(weekly_data, 'stationarity_drought_forecantig_weeklySeparated', (2, 4))\n",
    "plot_stationarity(monthly_data, 'stationarity_drought_forecantig_monthlySeparated', (2, 4))"
   ]
  }
 ],
 "metadata": {
  "interpreter": {
   "hash": "916dbcbb3f70747c44a77c7bcd40155683ae19c65e1c03b4aa3499c5328201f1"
  },
  "kernelspec": {
   "display_name": "Python 3.10.6 64-bit",
   "language": "python",
   "name": "python3"
  },
  "language_info": {
   "codemirror_mode": {
    "name": "ipython",
    "version": 3
   },
   "file_extension": ".py",
   "mimetype": "text/x-python",
   "name": "python",
   "nbconvert_exporter": "python",
   "pygments_lexer": "ipython3",
   "version": "3.10.6"
  },
  "orig_nbformat": 4
 },
 "nbformat": 4,
 "nbformat_minor": 2
}
